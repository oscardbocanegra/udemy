{
 "cells": [
  {
   "cell_type": "markdown",
   "metadata": {},
   "source": [
    "<a href=\"https://colab.research.google.com/drive/1gmnUN5sqWh7SgP3PJgpU1S5eP-Vr_wvT\">Abre este Jupyter en Google Colab</a>"
   ]
  },
  {
   "cell_type": "markdown",
   "metadata": {},
   "source": [
    "# Introducción a NumPy"
   ]
  },
  {
   "cell_type": "markdown",
   "metadata": {},
   "source": [
    "[Numpy](https://numpy.org) es una librería fundamental para la computación científica con Python.\n",
    "* Proporciona arrays N-dimensionales\n",
    "* Implementa funciones matemáticas sofisticadas\n",
    "* Proporciona herramientas para integrar C/C++ y Fortran\n",
    "* Proporciona mecanismos para facilitar la realización de tareas relacionadas con álgebra lineal o números aleatorios"
   ]
  },
  {
   "cell_type": "markdown",
   "metadata": {},
   "source": [
    "## Imports"
   ]
  },
  {
   "cell_type": "code",
   "execution_count": 76,
   "metadata": {
    "scrolled": true
   },
   "outputs": [
    {
     "name": "stdout",
     "output_type": "stream",
     "text": [
      "Defaulting to user installation because normal site-packages is not writeable\n",
      "Requirement already satisfied: numpy in /home/david/.local/lib/python3.10/site-packages (1.26.4)\n",
      "Defaulting to user installation because normal site-packages is not writeable\n",
      "Requirement already satisfied: matplotlib in /home/david/.local/lib/python3.10/site-packages (3.8.3)\n",
      "Requirement already satisfied: fonttools>=4.22.0 in /home/david/.local/lib/python3.10/site-packages (from matplotlib) (4.50.0)\n",
      "Requirement already satisfied: cycler>=0.10 in /home/david/.local/lib/python3.10/site-packages (from matplotlib) (0.12.1)\n",
      "Requirement already satisfied: contourpy>=1.0.1 in /home/david/.local/lib/python3.10/site-packages (from matplotlib) (1.2.0)\n",
      "Requirement already satisfied: numpy<2,>=1.21 in /home/david/.local/lib/python3.10/site-packages (from matplotlib) (1.26.4)\n",
      "Requirement already satisfied: pyparsing>=2.3.1 in /usr/lib/python3/dist-packages (from matplotlib) (2.4.7)\n",
      "Requirement already satisfied: python-dateutil>=2.7 in /home/david/.local/lib/python3.10/site-packages (from matplotlib) (2.9.0.post0)\n",
      "Requirement already satisfied: kiwisolver>=1.3.1 in /home/david/.local/lib/python3.10/site-packages (from matplotlib) (1.4.5)\n",
      "Requirement already satisfied: packaging>=20.0 in /home/david/.local/lib/python3.10/site-packages (from matplotlib) (24.0)\n",
      "Requirement already satisfied: pillow>=8 in /usr/lib/python3/dist-packages (from matplotlib) (9.0.1)\n",
      "Requirement already satisfied: six>=1.5 in /usr/lib/python3/dist-packages (from python-dateutil>=2.7->matplotlib) (1.16.0)\n"
     ]
    }
   ],
   "source": [
    "# Instalación de Numpy y Matplotlib\n",
    "!pip install numpy\n",
    "!pip install matplotlib"
   ]
  },
  {
   "cell_type": "code",
   "execution_count": 77,
   "metadata": {},
   "outputs": [],
   "source": [
    "import numpy as np"
   ]
  },
  {
   "cell_type": "markdown",
   "metadata": {},
   "source": [
    "## Arrays"
   ]
  },
  {
   "cell_type": "markdown",
   "metadata": {},
   "source": [
    "Un **array** es una estructura de datos que consiste en una colección de elementos (valores o variables), cada uno identificado por al menos un índice o clave. Un array se almacena de modo que la posición de cada elemento se pueda calcular a partir de su tupla de índice mediante una fórmula matemática. El tipo más simple de array es un array lineal, también llamado array unidimensional."
   ]
  },
  {
   "cell_type": "markdown",
   "metadata": {},
   "source": [
    "En numpy:\n",
    "* Cada dimensión se denomina **axis**\n",
    "* El número de dimensiones se denomina **rank**\n",
    "* La lista de dimensiones con su correspondiente longitud se denomina **shape**\n",
    "* El número total de elementos (multiplicación de la longitud de las dimensiones) se denomina **size**"
   ]
  },
  {
   "cell_type": "code",
   "execution_count": 78,
   "metadata": {},
   "outputs": [],
   "source": [
    "# Array cuyos valores son todos 0\n",
    "a = np.zeros((2, 4))"
   ]
  },
  {
   "cell_type": "code",
   "execution_count": 79,
   "metadata": {},
   "outputs": [
    {
     "data": {
      "text/plain": [
       "array([[0., 0., 0., 0.],\n",
       "       [0., 0., 0., 0.]])"
      ]
     },
     "execution_count": 79,
     "metadata": {},
     "output_type": "execute_result"
    }
   ],
   "source": [
    "a"
   ]
  },
  {
   "cell_type": "markdown",
   "metadata": {},
   "source": [
    "_**a**_ es un array:\n",
    "* Con dos **axis**, el primero de longitud 2 y el segundo de longitud 4\n",
    "* Con un **rank** igual a 2\n",
    "* Con un **shape** igual (2, 4)\n",
    "* Con un **size** igual a 8"
   ]
  },
  {
   "cell_type": "code",
   "execution_count": 80,
   "metadata": {},
   "outputs": [
    {
     "data": {
      "text/plain": [
       "(2, 4)"
      ]
     },
     "execution_count": 80,
     "metadata": {},
     "output_type": "execute_result"
    }
   ],
   "source": [
    "a.shape"
   ]
  },
  {
   "cell_type": "code",
   "execution_count": 81,
   "metadata": {},
   "outputs": [
    {
     "data": {
      "text/plain": [
       "2"
      ]
     },
     "execution_count": 81,
     "metadata": {},
     "output_type": "execute_result"
    }
   ],
   "source": [
    "a.ndim"
   ]
  },
  {
   "cell_type": "code",
   "execution_count": 82,
   "metadata": {},
   "outputs": [
    {
     "data": {
      "text/plain": [
       "8"
      ]
     },
     "execution_count": 82,
     "metadata": {},
     "output_type": "execute_result"
    }
   ],
   "source": [
    "a.size"
   ]
  },
  {
   "cell_type": "markdown",
   "metadata": {},
   "source": [
    "## Creación de Arrays"
   ]
  },
  {
   "cell_type": "code",
   "execution_count": 83,
   "metadata": {},
   "outputs": [
    {
     "data": {
      "text/plain": [
       "array([[[0., 0., 0., 0.],\n",
       "        [0., 0., 0., 0.],\n",
       "        [0., 0., 0., 0.]],\n",
       "\n",
       "       [[0., 0., 0., 0.],\n",
       "        [0., 0., 0., 0.],\n",
       "        [0., 0., 0., 0.]]])"
      ]
     },
     "execution_count": 83,
     "metadata": {},
     "output_type": "execute_result"
    }
   ],
   "source": [
    "# Array cuyos valores son todos 0\n",
    "np.zeros((2, 3, 4))"
   ]
  },
  {
   "cell_type": "code",
   "execution_count": 84,
   "metadata": {},
   "outputs": [
    {
     "data": {
      "text/plain": [
       "array([[[1., 1., 1., 1.],\n",
       "        [1., 1., 1., 1.],\n",
       "        [1., 1., 1., 1.]],\n",
       "\n",
       "       [[1., 1., 1., 1.],\n",
       "        [1., 1., 1., 1.],\n",
       "        [1., 1., 1., 1.]]])"
      ]
     },
     "execution_count": 84,
     "metadata": {},
     "output_type": "execute_result"
    }
   ],
   "source": [
    "# Array cuyos valores son todos 1\n",
    "np.ones((2, 3, 4))"
   ]
  },
  {
   "cell_type": "code",
   "execution_count": 85,
   "metadata": {},
   "outputs": [
    {
     "data": {
      "text/plain": [
       "array([[[8, 8, 8, 8],\n",
       "        [8, 8, 8, 8],\n",
       "        [8, 8, 8, 8]],\n",
       "\n",
       "       [[8, 8, 8, 8],\n",
       "        [8, 8, 8, 8],\n",
       "        [8, 8, 8, 8]]])"
      ]
     },
     "execution_count": 85,
     "metadata": {},
     "output_type": "execute_result"
    }
   ],
   "source": [
    "# Array cuyos valores son todos el valor indicado como segundo parámetro de la función\n",
    "np.full((2, 3, 4), 8)"
   ]
  },
  {
   "cell_type": "code",
   "execution_count": 86,
   "metadata": {},
   "outputs": [
    {
     "data": {
      "text/plain": [
       "array([[[5.14547991e-310, 0.00000000e+000, 0.00000000e+000,\n",
       "         0.00000000e+000, 0.00000000e+000, 4.94065646e-324,\n",
       "         0.00000000e+000, 5.14661409e-310, 0.00000000e+000],\n",
       "        [6.36598737e-314, 6.47591605e-319, 0.00000000e+000,\n",
       "         5.14661409e-310, 5.14661429e-310, 2.54639495e-313,\n",
       "         2.12199581e-314, 2.33419537e-313, 5.92878775e-323],\n",
       "        [6.50111339e-319, 0.00000000e+000, 0.00000000e+000,\n",
       "         0.00000000e+000, 5.14661403e-310, 0.00000000e+000,\n",
       "         4.94065646e-324, 5.14661429e-310, 1.94696509e-308]],\n",
       "\n",
       "       [[6.59906489e-310, 1.08433985e-311, 6.59906304e-310,\n",
       "         6.59906304e-310, 6.59906472e-310, 6.59906304e-310,\n",
       "         6.59906304e-310, 0.00000000e+000, 5.14661429e-310],\n",
       "        [6.59906304e-310, 6.59906304e-310, 6.59906364e-310,\n",
       "         6.59906304e-310, 6.59906304e-310, 6.59906304e-310,\n",
       "         6.59906472e-310, 6.59906304e-310, 6.59906304e-310],\n",
       "        [6.59906304e-310, 6.59906472e-310, 6.59906304e-310,\n",
       "         6.59906304e-310, 6.59906364e-310, 6.59906304e-310,\n",
       "         6.59906304e-310, 6.59906304e-310, 6.59906472e-310]]])"
      ]
     },
     "execution_count": 86,
     "metadata": {},
     "output_type": "execute_result"
    }
   ],
   "source": [
    "# El resultado de np.empty no es predecible \n",
    "# Inicializa los valores del array con lo que haya en memoria en ese momento\n",
    "np.empty((2, 3, 9))"
   ]
  },
  {
   "cell_type": "code",
   "execution_count": 87,
   "metadata": {},
   "outputs": [
    {
     "data": {
      "text/plain": [
       "array([[1, 2, 3],\n",
       "       [4, 5, 6]])"
      ]
     },
     "execution_count": 87,
     "metadata": {},
     "output_type": "execute_result"
    }
   ],
   "source": [
    "# Inicializacion del array utilizando un array de Python\n",
    "b = np.array([[1, 2, 3], [4, 5, 6]])\n",
    "b"
   ]
  },
  {
   "cell_type": "code",
   "execution_count": 88,
   "metadata": {},
   "outputs": [
    {
     "data": {
      "text/plain": [
       "(2, 3)"
      ]
     },
     "execution_count": 88,
     "metadata": {},
     "output_type": "execute_result"
    }
   ],
   "source": [
    "b.shape"
   ]
  },
  {
   "cell_type": "code",
   "execution_count": 89,
   "metadata": {},
   "outputs": [
    {
     "name": "stdout",
     "output_type": "stream",
     "text": [
      "[0.         0.66666667 1.33333333 2.         2.66666667 3.33333333\n",
      " 4.         4.66666667 5.33333333 6.        ]\n"
     ]
    }
   ],
   "source": [
    "# Creación del array utilizando una función basada en rangos\n",
    "# (minimo, maximo, número elementos del array)\n",
    "print(np.linspace(0, 6, 10))"
   ]
  },
  {
   "cell_type": "code",
   "execution_count": 90,
   "metadata": {},
   "outputs": [
    {
     "data": {
      "text/plain": [
       "array([[[0.49379798, 0.67181749, 0.67909338, 0.11086982],\n",
       "        [0.77541375, 0.91485549, 0.43614677, 0.50821496],\n",
       "        [0.28974101, 0.45025032, 0.8591167 , 0.46992496]],\n",
       "\n",
       "       [[0.53640095, 0.34690399, 0.93199716, 0.37389084],\n",
       "        [0.73864484, 0.30493045, 0.62367477, 0.09135915],\n",
       "        [0.84435389, 0.70003974, 0.9092158 , 0.51029005]]])"
      ]
     },
     "execution_count": 90,
     "metadata": {},
     "output_type": "execute_result"
    }
   ],
   "source": [
    "# Inicialización del array con valores aleatorios\n",
    "np.random.rand(2, 3, 4)"
   ]
  },
  {
   "cell_type": "code",
   "execution_count": 91,
   "metadata": {},
   "outputs": [
    {
     "data": {
      "text/plain": [
       "array([[-0.21543491,  0.01989479, -1.86949107, -0.27750029],\n",
       "       [-1.09480415,  0.13083607, -0.77092651,  1.06104722]])"
      ]
     },
     "execution_count": 91,
     "metadata": {},
     "output_type": "execute_result"
    }
   ],
   "source": [
    "# Inicialización del array con valores aleatorios conforme a una distribución normal\n",
    "np.random.randn(2, 4)"
   ]
  },
  {
   "cell_type": "code",
   "execution_count": 92,
   "metadata": {},
   "outputs": [
    {
     "data": {
      "image/png": "[encoded data removed]",
      "text/plain": [
       "<Figure size 640x480 with 1 Axes>"
      ]
     },
     "metadata": {},
     "output_type": "display_data"
    }
   ],
   "source": [
    "%matplotlib inline\n",
    "import matplotlib.pyplot as plt\n",
    "\n",
    "c = np.random.randn(1000000)\n",
    "\n",
    "plt.hist(c, bins=200)\n",
    "plt.show()"
   ]
  },
  {
   "cell_type": "code",
   "execution_count": 93,
   "metadata": {},
   "outputs": [
    {
     "data": {
      "text/plain": [
       "array([[ 0.,  2.,  4.,  6.,  8.],\n",
       "       [ 1.,  3.,  5.,  7.,  9.],\n",
       "       [ 2.,  4.,  6.,  8., 10.]])"
      ]
     },
     "execution_count": 93,
     "metadata": {},
     "output_type": "execute_result"
    }
   ],
   "source": [
    "# Inicialización del Array utilizando una función personalizada\n",
    "\n",
    "def func(x, y):\n",
    "    return x + 2 * y\n",
    "\n",
    "np.fromfunction(func, (3, 5))"
   ]
  },
  {
   "cell_type": "markdown",
   "metadata": {},
   "source": [
    "## Acceso a los elementos de un array"
   ]
  },
  {
   "cell_type": "markdown",
   "metadata": {},
   "source": [
    "### Array unidimensional"
   ]
  },
  {
   "cell_type": "code",
   "execution_count": 94,
   "metadata": {},
   "outputs": [
    {
     "name": "stdout",
     "output_type": "stream",
     "text": [
      "Shape: (6,)\n",
      "Array_uni: [ 1  3  5  7  9 11]\n"
     ]
    }
   ],
   "source": [
    "# Creación de un Array unidimensional\n",
    "array_uni = np.array([1, 3, 5, 7, 9, 11])\n",
    "print(\"Shape:\", array_uni.shape)\n",
    "print(\"Array_uni:\", array_uni)"
   ]
  },
  {
   "cell_type": "code",
   "execution_count": 95,
   "metadata": {},
   "outputs": [
    {
     "data": {
      "text/plain": [
       "9"
      ]
     },
     "execution_count": 95,
     "metadata": {},
     "output_type": "execute_result"
    }
   ],
   "source": [
    "# Accediendo al quinto elemento del Array\n",
    "array_uni[4]"
   ]
  },
  {
   "cell_type": "code",
   "execution_count": 96,
   "metadata": {},
   "outputs": [
    {
     "data": {
      "text/plain": [
       "array([5, 7])"
      ]
     },
     "execution_count": 96,
     "metadata": {},
     "output_type": "execute_result"
    }
   ],
   "source": [
    "# Accediendo al tercer y cuarto elemento del Array\n",
    "array_uni[2:4]"
   ]
  },
  {
   "cell_type": "code",
   "execution_count": 97,
   "metadata": {},
   "outputs": [
    {
     "data": {
      "text/plain": [
       "array([1, 7])"
      ]
     },
     "execution_count": 97,
     "metadata": {},
     "output_type": "execute_result"
    }
   ],
   "source": [
    "# Accediendo a los elementos 0, 3 y 5 del Array\n",
    "array_uni[0::3]"
   ]
  },
  {
   "cell_type": "markdown",
   "metadata": {},
   "source": [
    "### Array multidimensional"
   ]
  },
  {
   "cell_type": "code",
   "execution_count": 98,
   "metadata": {},
   "outputs": [
    {
     "name": "stdout",
     "output_type": "stream",
     "text": [
      "Shape: (2, 4)\n",
      "Array_multi:\n",
      " [[1 2 3 4]\n",
      " [5 6 7 8]]\n"
     ]
    }
   ],
   "source": [
    "# Creación de un Array multidimensional\n",
    "array_multi = np.array([[1, 2, 3, 4], [5, 6, 7, 8]])\n",
    "print(\"Shape:\", array_multi.shape)\n",
    "print(\"Array_multi:\\n\", array_multi)"
   ]
  },
  {
   "cell_type": "code",
   "execution_count": 99,
   "metadata": {},
   "outputs": [
    {
     "data": {
      "text/plain": [
       "4"
      ]
     },
     "execution_count": 99,
     "metadata": {},
     "output_type": "execute_result"
    }
   ],
   "source": [
    "# Accediendo al cuarto elemento del Array\n",
    "array_multi[0, 3]"
   ]
  },
  {
   "cell_type": "code",
   "execution_count": 100,
   "metadata": {},
   "outputs": [
    {
     "data": {
      "text/plain": [
       "array([5, 6, 7, 8])"
      ]
     },
     "execution_count": 100,
     "metadata": {},
     "output_type": "execute_result"
    }
   ],
   "source": [
    "# Accediendo a la segunda fila del Array\n",
    "array_multi[1, :]"
   ]
  },
  {
   "cell_type": "code",
   "execution_count": 101,
   "metadata": {},
   "outputs": [
    {
     "data": {
      "text/plain": [
       "array([3, 7])"
      ]
     },
     "execution_count": 101,
     "metadata": {},
     "output_type": "execute_result"
    }
   ],
   "source": [
    "# Accediendo al tercer elemento de las dos primeras filas del Array\n",
    "array_multi[0:2, 2]"
   ]
  },
  {
   "cell_type": "markdown",
   "metadata": {},
   "source": [
    "## Modificación de un Array"
   ]
  },
  {
   "cell_type": "code",
   "execution_count": 102,
   "metadata": {},
   "outputs": [
    {
     "name": "stdout",
     "output_type": "stream",
     "text": [
      "Shape: (28,)\n",
      "Array 1: [ 0  1  2  3  4  5  6  7  8  9 10 11 12 13 14 15 16 17 18 19 20 21 22 23\n",
      " 24 25 26 27]\n"
     ]
    }
   ],
   "source": [
    "# Creación de un Array unidimensional inicializado con el rango de elementos 0-27\n",
    "array1 = np.arange(28)\n",
    "print(\"Shape:\", array1.shape)\n",
    "print(\"Array 1:\", array1)"
   ]
  },
  {
   "cell_type": "code",
   "execution_count": 103,
   "metadata": {},
   "outputs": [
    {
     "name": "stdout",
     "output_type": "stream",
     "text": [
      "Shape: (7, 4)\n",
      "Array 1:\n",
      " [[ 0  1  2  3]\n",
      " [ 4  5  6  7]\n",
      " [ 8  9 10 11]\n",
      " [12 13 14 15]\n",
      " [16 17 18 19]\n",
      " [20 21 22 23]\n",
      " [24 25 26 27]]\n"
     ]
    }
   ],
   "source": [
    "# Cambiar las dimensiones del Array y sus longitudes\n",
    "array1.shape = (7, 4)\n",
    "print(\"Shape:\", array1.shape)\n",
    "print(\"Array 1:\\n\", array1)"
   ]
  },
  {
   "cell_type": "code",
   "execution_count": 104,
   "metadata": {},
   "outputs": [
    {
     "name": "stdout",
     "output_type": "stream",
     "text": [
      "Shape: (4, 7)\n",
      "Array 2:\n",
      " [[ 0  1  2  3  4  5  6]\n",
      " [ 7  8  9 10 11 12 13]\n",
      " [14 15 16 17 18 19 20]\n",
      " [21 22 23 24 25 26 27]]\n"
     ]
    }
   ],
   "source": [
    "# El ejemplo anterior devuelve un nuevo Array que apunta a los mismos datos. \n",
    "# Importante: Modificaciones en un Array, modificaran el otro Array\n",
    "array2 = array1.reshape(4, 7)\n",
    "print(\"Shape:\", array2.shape)\n",
    "print(\"Array 2:\\n\", array2)"
   ]
  },
  {
   "cell_type": "code",
   "execution_count": 105,
   "metadata": {},
   "outputs": [
    {
     "name": "stdout",
     "output_type": "stream",
     "text": [
      "Array 2:\n",
      " [[ 0  1  2 20  4  5  6]\n",
      " [ 7  8  9 10 11 12 13]\n",
      " [14 15 16 17 18 19 20]\n",
      " [21 22 23 24 25 26 27]]\n"
     ]
    }
   ],
   "source": [
    "# Modificación del nuevo Array devuelto\n",
    "array2[0, 3] = 20\n",
    "print(\"Array 2:\\n\", array2)"
   ]
  },
  {
   "cell_type": "code",
   "execution_count": 106,
   "metadata": {},
   "outputs": [
    {
     "name": "stdout",
     "output_type": "stream",
     "text": [
      "Array 1:\n",
      " [[ 0  1  2 20]\n",
      " [ 4  5  6  7]\n",
      " [ 8  9 10 11]\n",
      " [12 13 14 15]\n",
      " [16 17 18 19]\n",
      " [20 21 22 23]\n",
      " [24 25 26 27]]\n"
     ]
    }
   ],
   "source": [
    "print(\"Array 1:\\n\", array1)"
   ]
  },
  {
   "cell_type": "code",
   "execution_count": 107,
   "metadata": {},
   "outputs": [
    {
     "name": "stdout",
     "output_type": "stream",
     "text": [
      "Array 1: [ 0  1  2 20  4  5  6  7  8  9 10 11 12 13 14 15 16 17 18 19 20 21 22 23\n",
      " 24 25 26 27]\n"
     ]
    }
   ],
   "source": [
    "# Desenvuelve el Array, devolviendo un nuevo Array de una sola dimension\n",
    "# Importante: El nuevo array apunta a los mismos datos\n",
    "print(\"Array 1:\", array1.ravel())"
   ]
  },
  {
   "cell_type": "markdown",
   "metadata": {},
   "source": [
    "## Operaciones aritméticas con Arrays"
   ]
  },
  {
   "cell_type": "code",
   "execution_count": 108,
   "metadata": {},
   "outputs": [
    {
     "name": "stdout",
     "output_type": "stream",
     "text": [
      "Array 1: [ 2  4  6  8 10 12 14 16]\n",
      "Array 2: [0 1 2 3 4 5 6 7]\n"
     ]
    }
   ],
   "source": [
    "# Creación de dos Arrays unidimensionales\n",
    "array1 = np.arange(2, 18, 2)\n",
    "array2 = np.arange(8)\n",
    "print(\"Array 1:\", array1)\n",
    "print(\"Array 2:\", array2)"
   ]
  },
  {
   "cell_type": "code",
   "execution_count": 109,
   "metadata": {},
   "outputs": [
    {
     "name": "stdout",
     "output_type": "stream",
     "text": [
      "[ 2  5  8 11 14 17 20 23]\n"
     ]
    }
   ],
   "source": [
    "# Suma\n",
    "print(array1 + array2)"
   ]
  },
  {
   "cell_type": "code",
   "execution_count": 110,
   "metadata": {},
   "outputs": [
    {
     "name": "stdout",
     "output_type": "stream",
     "text": [
      "[2 3 4 5 6 7 8 9]\n"
     ]
    }
   ],
   "source": [
    "# Resta\n",
    "print(array1 - array2)"
   ]
  },
  {
   "cell_type": "code",
   "execution_count": 111,
   "metadata": {},
   "outputs": [
    {
     "name": "stdout",
     "output_type": "stream",
     "text": [
      "[  0   4  12  24  40  60  84 112]\n"
     ]
    }
   ],
   "source": [
    "# Multiplicacion\n",
    "# Importante: No es una multiplicación de matrices\n",
    "print(array1 * array2)"
   ]
  },
  {
   "cell_type": "markdown",
   "metadata": {},
   "source": [
    "## Broadcasting"
   ]
  },
  {
   "cell_type": "markdown",
   "metadata": {},
   "source": [
    "Si se aplican operaciones aritméticas sobre Arrays que no tienen la misma forma (shape) Numpy aplica un propiedad que se denomina Broadcasting."
   ]
  },
  {
   "cell_type": "code",
   "execution_count": 112,
   "metadata": {},
   "outputs": [
    {
     "name": "stdout",
     "output_type": "stream",
     "text": [
      "Shape Array 1: (5,)\n",
      "Array 1: [0 1 2 3 4]\n",
      "\n",
      "Shape Array 2: (1,)\n",
      "Array 2: [3]\n"
     ]
    }
   ],
   "source": [
    "# Creación de dos Arrays unidimensionales\n",
    "array1 = np.arange(5)\n",
    "array2 = np.array([3])\n",
    "print(\"Shape Array 1:\", array1.shape)\n",
    "print(\"Array 1:\", array1)\n",
    "print()\n",
    "print(\"Shape Array 2:\", array2.shape)\n",
    "print(\"Array 2:\", array2)"
   ]
  },
  {
   "cell_type": "code",
   "execution_count": 113,
   "metadata": {},
   "outputs": [
    {
     "data": {
      "text/plain": [
       "array([3, 4, 5, 6, 7])"
      ]
     },
     "execution_count": 113,
     "metadata": {},
     "output_type": "execute_result"
    }
   ],
   "source": [
    "# Suma de ambos Arrays\n",
    "array1 + array2"
   ]
  },
  {
   "cell_type": "code",
   "execution_count": 114,
   "metadata": {},
   "outputs": [
    {
     "name": "stdout",
     "output_type": "stream",
     "text": [
      "Shape Array 1: (2, 3)\n",
      "Array 1:\n",
      " [[0 1 2]\n",
      " [3 4 5]]\n",
      "\n",
      "Shape Array 2: (3,)\n",
      "Array 2: [ 6 10 14]\n"
     ]
    }
   ],
   "source": [
    "# Creación de dos Arrays multidimensional y unidimensional\n",
    "array1 = np.arange(6)\n",
    "array1.shape = (2, 3)\n",
    "array2 = np.arange(6, 18, 4)\n",
    "print(\"Shape Array 1:\", array1.shape)\n",
    "print(\"Array 1:\\n\", array1)\n",
    "print()\n",
    "print(\"Shape Array 2:\", array2.shape)\n",
    "print(\"Array 2:\", array2)"
   ]
  },
  {
   "cell_type": "code",
   "execution_count": 115,
   "metadata": {},
   "outputs": [
    {
     "data": {
      "text/plain": [
       "array([[ 6, 11, 16],\n",
       "       [ 9, 14, 19]])"
      ]
     },
     "execution_count": 115,
     "metadata": {},
     "output_type": "execute_result"
    }
   ],
   "source": [
    "# Suma de ambos Arrays\n",
    "array1 + array2"
   ]
  },
  {
   "cell_type": "markdown",
   "metadata": {},
   "source": [
    "## Funciones estadísticas sobre Arrays"
   ]
  },
  {
   "cell_type": "code",
   "execution_count": 116,
   "metadata": {},
   "outputs": [
    {
     "name": "stdout",
     "output_type": "stream",
     "text": [
      "Array 1: [ 1  3  5  7  9 11 13 15 17 19]\n"
     ]
    }
   ],
   "source": [
    "# Creación de un Array unidimensional\n",
    "array1 = np.arange(1, 20, 2)\n",
    "print(\"Array 1:\", array1)"
   ]
  },
  {
   "cell_type": "code",
   "execution_count": 117,
   "metadata": {},
   "outputs": [
    {
     "data": {
      "text/plain": [
       "10.0"
      ]
     },
     "execution_count": 117,
     "metadata": {},
     "output_type": "execute_result"
    }
   ],
   "source": [
    "# Media de los elementos del Array\n",
    "array1.mean()"
   ]
  },
  {
   "cell_type": "code",
   "execution_count": 118,
   "metadata": {},
   "outputs": [
    {
     "data": {
      "text/plain": [
       "100"
      ]
     },
     "execution_count": 118,
     "metadata": {},
     "output_type": "execute_result"
    }
   ],
   "source": [
    "# Suma de los elementos del Array\n",
    "array1.sum()"
   ]
  },
  {
   "cell_type": "markdown",
   "metadata": {},
   "source": [
    "Funciones universales eficientes proporcionadas por numpy: **ufunc**"
   ]
  },
  {
   "cell_type": "code",
   "execution_count": 119,
   "metadata": {},
   "outputs": [
    {
     "data": {
      "text/plain": [
       "array([  1,   9,  25,  49,  81, 121, 169, 225, 289, 361])"
      ]
     },
     "execution_count": 119,
     "metadata": {},
     "output_type": "execute_result"
    }
   ],
   "source": [
    "# Cuadrado de los elementos del Array\n",
    "np.square(array1)"
   ]
  },
  {
   "cell_type": "code",
   "execution_count": 120,
   "metadata": {},
   "outputs": [
    {
     "data": {
      "text/plain": [
       "array([1.        , 1.73205081, 2.23606798, 2.64575131, 3.        ,\n",
       "       3.31662479, 3.60555128, 3.87298335, 4.12310563, 4.35889894])"
      ]
     },
     "execution_count": 120,
     "metadata": {},
     "output_type": "execute_result"
    }
   ],
   "source": [
    "# Raiz cuadrada de los elementos del Array\n",
    "np.sqrt(array1)"
   ]
  },
  {
   "cell_type": "code",
   "execution_count": 121,
   "metadata": {},
   "outputs": [
    {
     "data": {
      "text/plain": [
       "array([2.71828183e+00, 2.00855369e+01, 1.48413159e+02, 1.09663316e+03,\n",
       "       8.10308393e+03, 5.98741417e+04, 4.42413392e+05, 3.26901737e+06,\n",
       "       2.41549528e+07, 1.78482301e+08])"
      ]
     },
     "execution_count": 121,
     "metadata": {},
     "output_type": "execute_result"
    }
   ],
   "source": [
    "# Exponencial de los elementos del Array\n",
    "np.exp(array1)"
   ]
  },
  {
   "cell_type": "code",
   "execution_count": 75,
   "metadata": {},
   "outputs": [
    {
     "name": "stderr",
     "output_type": "stream",
     "text": [
      "/tmp/ipykernel_12509/2149759725.py:2: RuntimeWarning: divide by zero encountered in log\n",
      "  np.log(array1)\n"
     ]
    },
    {
     "data": {
      "text/plain": [
       "array([[      -inf, 0.        , 0.69314718, 2.99573227],\n",
       "       [1.38629436, 1.60943791, 1.79175947, 1.94591015],\n",
       "       [2.07944154, 2.19722458, 2.30258509, 2.39789527],\n",
       "       [2.48490665, 2.56494936, 2.63905733, 2.7080502 ],\n",
       "       [2.77258872, 2.83321334, 2.89037176, 2.94443898],\n",
       "       [2.99573227, 3.04452244, 3.09104245, 3.13549422],\n",
       "       [3.17805383, 3.21887582, 3.25809654, 3.29583687]])"
      ]
     },
     "execution_count": 75,
     "metadata": {},
     "output_type": "execute_result"
    }
   ],
   "source": [
    "# log de los elementos del Array\n",
    "np.log(array1)"
   ]
  }
 ],
 "metadata": {
  "kernelspec": {
   "display_name": "Python 3 (ipykernel)",
   "language": "python",
   "name": "python3"
  },
  "language_info": {
   "codemirror_mode": {
    "name": "ipython",
    "version": 3
   },
   "file_extension": ".py",
   "mimetype": "text/x-python",
   "name": "python",
   "nbconvert_exporter": "python",
   "pygments_lexer": "ipython3",
   "version": "3.10.12"
  }
 },
 "nbformat": 4,
 "nbformat_minor": 4
}
